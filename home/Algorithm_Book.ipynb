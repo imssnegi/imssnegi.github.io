{
 "cells": [
  {
   "cell_type": "markdown",
   "metadata": {},
   "source": [
    "# <font color=blue> Step by Step tutorial to automate HEC-RAS simulations</font>"
   ]
  },
  {
   "cell_type": "markdown",
   "metadata": {},
   "source": [
    "__Prerequisite: Import the following packages for HEC-RAS automation__"
   ]
  },
  {
   "cell_type": "code",
   "execution_count": 40,
   "metadata": {},
   "outputs": [],
   "source": [
    "import win32com.client\n",
    "import os, numpy, time\n",
    "import pyautogui"
   ]
  },
  {
   "cell_type": "markdown",
   "metadata": {},
   "source": [
    "__Step 1: Open a HEC-RAS window__"
   ]
  },
  {
   "cell_type": "code",
   "execution_count": 41,
   "metadata": {},
   "outputs": [],
   "source": [
    "hec = win32com.client.Dispatch(\"RAS507.HECRASController\")\n",
    "hec.ShowRas() # show HEC-RAS window"
   ]
  },
  {
   "cell_type": "markdown",
   "metadata": {},
   "source": [
    "__Step 2: Open a project file__"
   ]
  },
  {
   "cell_type": "code",
   "execution_count": 42,
   "metadata": {},
   "outputs": [
    {
     "name": "stdout",
     "output_type": "stream",
     "text": [
      "E:\\ai\\try1\\RAS_Python\\Less_Models\\DEEP CREEK\\DEEP CREEK.prj\n"
     ]
    }
   ],
   "source": [
    "mypath = r'E:\\ai\\try1\\RAS_Python\\Less_Models\\DEEP CREEK'\n",
    "for subdir, dirs, files in os.walk(mypath):\n",
    "    for name in files:\n",
    "        if name.endswith(\".prj\"):\n",
    "            projpath = subdir + os.sep + name\n",
    "            print (projpath)\n",
    "            hec.Project_Open(projpath)"
   ]
  },
  {
   "cell_type": "markdown",
   "metadata": {},
   "source": [
    "__Step 3: Open geometric data editor__"
   ]
  },
  {
   "cell_type": "code",
   "execution_count": 43,
   "metadata": {},
   "outputs": [],
   "source": [
    "hec.Edit_GeometricData()"
   ]
  },
  {
   "cell_type": "markdown",
   "metadata": {},
   "source": [
    "__Step 4: Make changes to geometry__"
   ]
  },
  {
   "cell_type": "code",
   "execution_count": 45,
   "metadata": {},
   "outputs": [],
   "source": [
    "    time.sleep(3)\n",
    "    pyautogui.press('alt')\n",
    "    pyautogui.press('right')\n",
    "    pyautogui.press('right')\n",
    "    pyautogui.press('right')\n",
    "    pyautogui.press('right')\n",
    "    pyautogui.press('right')\n",
    "    pyautogui.press('down')\n",
    "    pyautogui.press('down')\n",
    "    pyautogui.press('down')\n",
    "    pyautogui.press('down')\n",
    "    pyautogui.press('down')\n",
    "    pyautogui.press('enter')\n",
    "    pyautogui.press('tab')\n",
    "    pyautogui.press('enter')\n",
    "    pyautogui.press('enter')\n",
    "    pyautogui.hotkey('shift', 'tab')\n",
    "    pyautogui.press('enter')\n",
    "    pyautogui.press('tab')\n",
    "    pyautogui.press('tab')\n",
    "    pyautogui.press('enter')"
   ]
  },
  {
   "cell_type": "markdown",
   "metadata": {},
   "source": [
    "__Step 5: Run a steady flow simulation__"
   ]
  },
  {
   "cell_type": "code",
   "execution_count": 48,
   "metadata": {},
   "outputs": [],
   "source": [
    "# to be populated: number and list of messages, blocking mode\n",
    "NMsg,TabMsg,block = None,None,True\n",
    "# computations of the current plan\n",
    "v1,NMsg,TabMsg,v2 = hec.Compute_CurrentPlan(NMsg,TabMsg,block)\n",
    "time.sleep(3)"
   ]
  },
  {
   "cell_type": "markdown",
   "metadata": {},
   "source": [
    "__Step 6: Create output table__"
   ]
  },
  {
   "cell_type": "code",
   "execution_count": 49,
   "metadata": {},
   "outputs": [
    {
     "name": "stdout",
     "output_type": "stream",
     "text": [
      "DEEP CREEK      \n",
      "Reach-1         \n",
      "No. of Profiles: 7\n"
     ]
    }
   ],
   "source": [
    "a1, RivNm = hec.Geometry_GetRivers(1,)\n",
    "print(RivNm[0])\n",
    "b1,b2,RchNm=hec.Geometry_GetReaches(1,1,)\n",
    "print(RchNm[0])\n",
    "NProf = hec.SteadyFlow_nProfile\n",
    "print(\"No. of Profiles: %s\" % (NProf))\n",
    "\n",
    "# ID numbers of the river and the reach\n",
    "RivID,RchID = 1,1\n",
    "# to be populated: number of nodes, list of RS and node types\n",
    "NNod,TabRS,TabNTyp = None,None,None\n",
    "# reading project nodes: cross-sections, bridges, culverts, etc.\n",
    "v1,v2,NNod,TabRS,TabNTyp = hec.Geometry_GetNodes(RivID,RchID,NNod,TabRS,TabNTyp)\n",
    "\n",
    "# ID of output variables: WSE, ave velocity\n",
    "WSE_id,QTot_id, Prof_id, StaLft_id, StaRgt_id= 2,9,1,36,37\n",
    "TabWSE = numpy.empty([NNod,NProf],dtype=float) # NumPy array for WSE\n",
    "TabQTot = numpy.empty([NNod,NProf],dtype=float) # NumPy array for velocities\n",
    "TabProf = numpy.empty([NProf],dtype=str)\n",
    "TabStaLft = numpy.empty([NNod], dtype=float)\n",
    "TabStaRgt = numpy.empty([NNod], dtype=float)\n",
    "for i in range(0,NNod): # reading over nodes\n",
    "    for j in range(0,NProf):\n",
    "        if TabNTyp[i] == \"\": # simple cross-section\n",
    "        # reading single water surface elevation\n",
    "            TabWSE[i][j],v1,v2,v3,v4,v5,v6 = hec.Output_NodeOutput(RivID,RchID,i+1,0,j+1,WSE_id)\n",
    "        # reading single velocity\n",
    "            TabQTot[i][j],v1,v2,v3,v4,v5,v6 = hec.Output_NodeOutput(RivID,RchID,i+1,0,j+1,QTot_id)\n",
    "    TabStaLft[i],v1,v2,v3,v4,v5,v6 = hec.Output_NodeOutput(RivID,RchID,i+1,0,1,StaLft_id)   #Stations at 10-Yr WSEL\n",
    "    TabStaRgt[i],v1,v2,v3,v4,v5,v6 = hec.Output_NodeOutput(RivID,RchID,i+1,0,1,StaRgt_id)\n",
    "#    print(TabStaLft[i])\n",
    "hec.Project_Save()"
   ]
  },
  {
   "cell_type": "markdown",
   "metadata": {},
   "source": [
    "__Step 7: Output to a text file__"
   ]
  },
  {
   "cell_type": "code",
   "execution_count": 51,
   "metadata": {
    "scrolled": true
   },
   "outputs": [
    {
     "name": "stdout",
     "output_type": "stream",
     "text": [
      "E:\\ai\\try1\\RAS_Python\\Less_Models\\DEEP CREEK\\_XsOutData\\XsOutData.txt\n"
     ]
    }
   ],
   "source": [
    "def header(path, NRS, ResRivNm, ResRchNm, ResNProf):\n",
    "    f = open(path, 'w')\n",
    "    f.write(\"Profile Output Table - Table 1 \\n\")\n",
    "    f.write(\"HEC-RAS  Plan: Multiple   River: %s   Reach: %7s\\n\\n\" % (ResRivNm[0],ResRchNm[0]))\n",
    "    f.write(\"# Rivers            = 1 \\n\")\n",
    "    f.write(\"# Hydraulic Reaches = 1 \\n\")\n",
    "    f.write(\"# River Stations    = %s \\n\" % (NRS))\n",
    "    f.write(\"# Plans             = 1 \\n\")\n",
    "    f.write(\"# Profiles          = %s \\n\\n\" % (ResNProf))\n",
    "    f.close()\n",
    "\n",
    "def sc1_ShowNodes(path, NRS, ListRS,ListTyp,ResWSE,ResQTot,ResNProf,ResRchNm):\n",
    "    f = open(path,'a')\n",
    "    #f.write (\"Number of nodes: %10d\\n\" % (NRS,))\n",
    "    f.write (\"%6s %20s %16s %11s\\n\" % ('Reach', 'River Sta', \"W.S. Elev\", \"Q Total \"))\n",
    "    f.write (\"                                        (ft)      (cfs) \\n\\n\")\n",
    "    for i in range(0,NRS):\n",
    "        for j in range(0,ResNProf):\n",
    "            if ListTyp[i] == \"\":\n",
    "                f.write (\" %5s %8s %17.2f %10.2f\\n\" % (ResRchNm[0],ListRS[i],ResWSE[i][j],ResQTot[i][j]))\n",
    "            else:\n",
    "                f.write (\"%11s %14s\\n\" % (ListTyp[i],ListRS[i]))\n",
    "        f.write(\"\\n\")\n",
    "    f.close()\n",
    "for name in files:\n",
    "    if name.endswith(\"XsOutData.txt\"):\n",
    "        txtpath = subdir + os.sep + name\n",
    "        print (txtpath)\n",
    "        header(txtpath, NNod, RivNm, RchNm, NProf)\n",
    "        sc1_ShowNodes(txtpath, NNod, TabRS, TabNTyp, TabWSE, TabQTot,NProf,RchNm )"
   ]
  },
  {
   "cell_type": "markdown",
   "metadata": {},
   "source": [
    "__Step 8: Close HEC-RAS window__"
   ]
  },
  {
   "cell_type": "code",
   "execution_count": 53,
   "metadata": {},
   "outputs": [],
   "source": [
    "hec.QuitRas() # close HEC-RAS\n",
    "del hec # delete HEC-RAS controller"
   ]
  },
  {
   "cell_type": "markdown",
   "metadata": {},
   "source": [
    "# __An Example Project. RASomate__\n",
    "By implementing all the concepts from this tutorial, a software can be created which can be shared with other engineers in the team."
   ]
  },
  {
   "cell_type": "code",
   "execution_count": 47,
   "metadata": {
    "scrolled": true
   },
   "outputs": [
    {
     "data": {
      "image/jpeg": "[encoded data removed]",
      "text/html": [
       "\n",
       "        <iframe\n",
       "            width=\"560\"\n",
       "            height=\"315\"\n",
       "            src=\"https://www.youtube.com/embed/dJEiUSRTZY4\"\n",
       "            frameborder=\"0\"\n",
       "            allowfullscreen\n",
       "        ></iframe>\n",
       "        "
      ],
      "text/plain": [
       "<IPython.lib.display.YouTubeVideo at 0x28f7ed48d30>"
      ]
     },
     "execution_count": 47,
     "metadata": {},
     "output_type": "execute_result"
    }
   ],
   "source": [
    "from IPython.display import YouTubeVideo\n",
    "YouTubeVideo('dJEiUSRTZY4', width = 560, height = 315)"
   ]
  },
  {
   "cell_type": "code",
   "execution_count": null,
   "metadata": {},
   "outputs": [],
   "source": [
    "  "
   ]
  }
 ],
 "metadata": {
  "kernelspec": {
   "display_name": "flood",
   "language": "python",
   "name": "flood"
  },
  "language_info": {
   "codemirror_mode": {
    "name": "ipython",
    "version": 3
   },
   "file_extension": ".py",
   "mimetype": "text/x-python",
   "name": "python",
   "nbconvert_exporter": "python",
   "pygments_lexer": "ipython3",
   "version": "3.8.1"
  }
 },
 "nbformat": 4,
 "nbformat_minor": 4
}
